{
 "cells": [
  {
   "cell_type": "code",
   "execution_count": null,
   "id": "dd7248d4",
   "metadata": {},
   "outputs": [],
   "source": [
    "import tensorflow as tf\n",
    "import tensorflow_datasets as tfds\n",
    "\n",
    "#Descargar set de datos de MNIST (Numeros escritos a mano, etiquetados)\n",
    "datos, metadatos = tfds.load('mnist', as_supervised=True, with_info=True)\n",
    "\n",
    "#Obtenemos en variables separadas los datos de entrenamiento (60k) y pruebas (10k)\n",
    "datos_entrenamiento, datos_pruebas = datos['train'], datos['test']\n",
    "\n",
    "#Etiquetas de las 10 categorias posibles (simplemente son los numeros del 0 al 9)\n",
    "nombres_clases = metadatos.features['label'].names\n",
    "\n",
    "#Funcion de normalizacion para los datos (Pasar valor de los pixeles de 0-255 a 0-1)\n",
    "#Hace que la red aprenda mejor y mas rapido\n",
    "def normalizar(imagenes, etiquetas):\n",
    "  imagenes = tf.cast(imagenes, tf.float32)\n",
    "  imagenes /= 255 #Aqui lo pasa de 0-255 a 0-1\n",
    "  return imagenes, etiquetas\n",
    "\n",
    "#Normalizar los datos de entrenamiento y pruebas con la funcion que hicimos\n",
    "datos_entrenamiento = datos_entrenamiento.map(normalizar)\n",
    "datos_pruebas = datos_pruebas.map(normalizar)\n",
    "\n",
    "#Agregar a cache (usar memoria en lugar de disco, entrenamiento mas rapido)\n",
    "datos_entrenamiento = datos_entrenamiento.cache()\n",
    "datos_pruebas = datos_pruebas.cache()\n",
    "\n",
    "#Crear el modelo\n",
    "modelo = tf.keras.Sequential([\n",
    "    tf.keras.layers.Conv2D(32, (3,3), activation='relu', input_shape=(28, 28, 1)),\n",
    "    tf.keras.layers.MaxPooling2D(2, 2),\n",
    "\n",
    "    tf.keras.layers.Conv2D(64, (3,3), activation='relu'),\n",
    "    tf.keras.layers.MaxPooling2D(2,2),\n",
    "\n",
    "    tf.keras.layers.Conv2D(128, (3,3), activation='relu'),\n",
    "    tf.keras.layers.MaxPooling2D(2,2),\n",
    "\n",
    "    tf.keras.layers.Dropout(0.5),\n",
    "    tf.keras.layers.Flatten(),\n",
    "    tf.keras.layers.Dense(512, activation='relu'),\n",
    "    tf.keras.layers.Dense(10, activation=tf.nn.softmax) #Para redes de clasificacion\n",
    "])\n",
    "\n",
    "#Compilar el modelo\n",
    "modelo.compile(\n",
    "    optimizer='adam',\n",
    "    loss=tf.keras.losses.SparseCategoricalCrossentropy(),\n",
    "    metrics=['accuracy']\n",
    ")\n",
    "\n",
    "#Los numeros de datos en entrenamiento y pruebas (60k y 10k)\n",
    "num_ej_entrenamiento = metadatos.splits[\"train\"].num_examples\n",
    "num_ej_pruebas = metadatos.splits[\"test\"].num_examples\n",
    "\n",
    "#El trabajo por lotes permite que entrenamientos con gran cantidad de datos se haga de manera mas eficiente\n",
    "TAMANO_LOTE = 32\n",
    "\n",
    "#Shuffle y repeat hacen que los datos esten mezclados de manera aleatoria para que la red\n",
    "#no se vaya a aprender el orden de las cosas\n",
    "datos_entrenamiento = datos_entrenamiento.repeat().shuffle(num_ej_entrenamiento).batch(TAMANO_LOTE)\n",
    "datos_pruebas = datos_pruebas.batch(TAMANO_LOTE)\n",
    "\n",
    "import math\n",
    "\n",
    "#Entrenar\n",
    "historial = modelo.fit(datos_entrenamiento, epochs=5, steps_per_epoch= math.ceil(num_ej_entrenamiento/TAMANO_LOTE))"
   ]
  },
  {
   "cell_type": "code",
   "execution_count": null,
   "id": "bff12c14",
   "metadata": {},
   "outputs": [],
   "source": [
    "#Exportar el modelo en formato h5\n",
    "modelo.save('numeros.h5')"
   ]
  },
  {
   "cell_type": "code",
   "execution_count": null,
   "id": "fa717a5f",
   "metadata": {},
   "outputs": [],
   "source": [
    "#Para convertirlo a tensorflow.js, primero debemos instalar la libreria\n",
    "!pip install tensorflowjs"
   ]
  },
  {
   "cell_type": "code",
   "execution_count": null,
   "id": "93596182",
   "metadata": {},
   "outputs": [],
   "source": [
    "#Crear carpeta donde se colocaran los archivos resultantes\n",
    "!mkdir carpeta_salida"
   ]
  },
  {
   "cell_type": "code",
   "execution_count": null,
   "id": "77dbcc22",
   "metadata": {},
   "outputs": [],
   "source": [
    "#Realizar la exportacion a la carpeta de salida\n",
    "!tensorflowjs_converter --input_format keras numeros.h5 carpeta_salida"
   ]
  }
 ],
 "metadata": {
  "kernelspec": {
   "display_name": "entornoGPU",
   "language": "python",
   "name": "python3"
  },
  "language_info": {
   "codemirror_mode": {
    "name": "ipython",
    "version": 3
   },
   "file_extension": ".py",
   "mimetype": "text/x-python",
   "name": "python",
   "nbconvert_exporter": "python",
   "pygments_lexer": "ipython3",
   "version": "3.7.13"
  }
 },
 "nbformat": 4,
 "nbformat_minor": 5
}
